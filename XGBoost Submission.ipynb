{
 "cells": [
  {
   "cell_type": "code",
   "execution_count": 1,
   "id": "afe8c436-c01e-4a64-9340-b1f9027c80fa",
   "metadata": {},
   "outputs": [],
   "source": [
    "import pandas as pd\n",
    "from sklearn.model_selection import train_test_split, GridSearchCV\n",
    "from sklearn.preprocessing import LabelEncoder\n",
    "import xgboost as xgb\n",
    "import time\n",
    "from sklearn.metrics import accuracy_score"
   ]
  },
  {
   "cell_type": "code",
   "execution_count": 2,
   "id": "712253f6-5c0b-4cc7-92c5-02bd0d0d1fb8",
   "metadata": {},
   "outputs": [],
   "source": [
    "train = pd.read_csv(\"data/train.csv\", index_col=\"id\")\n",
    "submission_test = pd.read_csv(\"data/test.csv\", index_col=\"id\")"
   ]
  },
  {
   "cell_type": "markdown",
   "id": "81cdcb3d-f8bf-4da5-9ff0-ff32ed8b97ec",
   "metadata": {},
   "source": [
    "# Pre-process"
   ]
  },
  {
   "cell_type": "code",
   "execution_count": 3,
   "id": "9a14c910-5383-4b36-b80b-d94b0e56b970",
   "metadata": {},
   "outputs": [],
   "source": [
    "Categorical = [\"Marital status\", \n",
    "               \"Application mode\", \n",
    "               \"Application order\", \n",
    "               \"Course\", \n",
    "               \"Previous qualification\", \n",
    "               \"Nacionality\", \n",
    "               \"Mother's qualification\", \n",
    "               \"Father's qualification\", \n",
    "               \"Mother's occupation\", \n",
    "               \"Father's occupation\"]\n",
    "Boolean = [\"Daytime/evening attendance\", \n",
    "           \"Displaced\", \n",
    "           \"Educational special needs\", \n",
    "           \"Debtor\", \n",
    "           \"Tuition fees up to date\", \n",
    "           \"Gender\", \n",
    "           \"Scholarship holder\", \n",
    "           \"International\" ]\n",
    "Continuous = [\"Previous qualification (grade)\", \n",
    "              \"Admission grade\", \n",
    "              \"Age at enrollment\", \n",
    "              \"Curricular units 1st sem (credited)\", \n",
    "              \"Curricular units 1st sem (enrolled)\", \n",
    "              \"Curricular units 1st sem (evaluations)\", \n",
    "              \"Curricular units 1st sem (approved)\", \n",
    "              \"Curricular units 1st sem (grade)\", \n",
    "              \"Curricular units 1st sem (without evaluations)\",\n",
    "              \"Curricular units 2nd sem (credited)\", \n",
    "              \"Curricular units 2nd sem (enrolled)\", \n",
    "              \"Curricular units 2nd sem (evaluations)\", \n",
    "              \"Curricular units 2nd sem (approved)\", \n",
    "              \"Curricular units 2nd sem (grade)\", \n",
    "              \"Curricular units 2nd sem (without evaluations)\",\n",
    "              \"Unemployment rate\",\n",
    "              \"Inflation rate\",\n",
    "              \"GDP\"]"
   ]
  },
  {
   "cell_type": "code",
   "execution_count": 4,
   "id": "878c53e7-0e45-40fa-afe8-149836ac5d3d",
   "metadata": {},
   "outputs": [
    {
     "data": {
      "text/plain": [
       "id\n",
       "0    Graduate\n",
       "1     Dropout\n",
       "2     Dropout\n",
       "3    Enrolled\n",
       "4    Graduate\n",
       "Name: Target, dtype: object"
      ]
     },
     "execution_count": 4,
     "metadata": {},
     "output_type": "execute_result"
    }
   ],
   "source": [
    "# Separate features and target\n",
    "X_train_raw = train.drop(columns=['Target'])\n",
    "y = train['Target']\n",
    "y.head(5)"
   ]
  },
  {
   "cell_type": "code",
   "execution_count": 5,
   "id": "5d23b654-5c84-435a-8190-76e83c1fa006",
   "metadata": {},
   "outputs": [],
   "source": [
    "# Combine train and test for consistent encoding\n",
    "combined = pd.concat([X_train_raw, submission_test], axis=0)\n",
    "\n",
    "# Apply get_dummies\n",
    "combined_encoded = pd.get_dummies(combined, columns=Categorical)\n",
    "\n",
    "# Split back into train and test\n",
    "X = combined_encoded.loc[X_train_raw.index]\n",
    "X_test = combined_encoded.loc[submission_test.index]"
   ]
  },
  {
   "cell_type": "code",
   "execution_count": 6,
   "id": "305a9dd5-a514-4f0b-9291-dd665c98a13e",
   "metadata": {},
   "outputs": [],
   "source": [
    "# Encode target column\n",
    "target_encoder = LabelEncoder()\n",
    "y = target_encoder.fit_transform(y)"
   ]
  },
  {
   "cell_type": "code",
   "execution_count": 7,
   "id": "db3b3d8d-87fa-48bc-ad76-ce1794c5c12d",
   "metadata": {},
   "outputs": [],
   "source": [
    "#y = pd.get_dummies(y)\n",
    "#y.head()"
   ]
  },
  {
   "cell_type": "markdown",
   "id": "d8704a0a-0f70-4a53-97fa-39ba8fae145b",
   "metadata": {},
   "source": [
    "# Train"
   ]
  },
  {
   "cell_type": "code",
   "execution_count": 8,
   "id": "936c4012-c2d2-4d27-a85c-2404c6010625",
   "metadata": {},
   "outputs": [],
   "source": [
    "# X_train, X_val, y_train, y_val = train_test_split(X, y, test_size=0.2, random_state=42)"
   ]
  },
  {
   "cell_type": "code",
   "execution_count": 9,
   "id": "e5aead63-910e-4820-9eee-963e05dda793",
   "metadata": {},
   "outputs": [
    {
     "name": "stdout",
     "output_type": "stream",
     "text": [
      "Time taken: 134 seconds\n"
     ]
    }
   ],
   "source": [
    "# Convert to DMatrix for XGBoost\n",
    "dtrain = xgb.DMatrix(X, label=y)\n",
    "dtest = xgb.DMatrix(X_test)\n",
    "\n",
    "# Set parameters for XGBoost\n",
    "params = {\n",
    "    'objective': 'multi:softmax',  # For classification\n",
    "    'num_class': len(target_encoder.classes_),  # Number of unique classes in target\n",
    "    'eval_metric': 'mlogloss',\n",
    "    'eta': 0.1,\n",
    "    'max_depth': 3,\n",
    "    'lambda': 4,\n",
    "    'alpha': 1,\n",
    "    'subsample': 1,\n",
    "    'colsample_bytree': 1\n",
    "}\n",
    "\n",
    "# Train the model\n",
    "start_time = time.time()\n",
    "model = xgb.train(params, dtrain, num_boost_round=2000, verbose_eval=False)\n",
    "end_time = time.time()\n",
    "print(f\"Time taken: {round(end_time - start_time)} seconds\")"
   ]
  },
  {
   "cell_type": "code",
   "execution_count": 10,
   "id": "e76b7a07-e442-4a23-8cc3-2e86875417a9",
   "metadata": {},
   "outputs": [],
   "source": [
    "# Predict on validation set\n",
    "y_pred = model.predict(dtest)"
   ]
  },
  {
   "cell_type": "code",
   "execution_count": 19,
   "id": "90e3b9ed-a230-406b-ad04-58748a3f27f3",
   "metadata": {},
   "outputs": [],
   "source": [
    "target_list = target_encoder.inverse_transform([int(n) for n in y_pred])"
   ]
  },
  {
   "cell_type": "code",
   "execution_count": 25,
   "id": "adbedbbc-b7e7-4069-b136-255477395ce1",
   "metadata": {},
   "outputs": [],
   "source": [
    "# Create a DataFrame\n",
    "df = pd.DataFrame({'id': submission_test.index, 'Target': target_list})\n",
    "\n",
    "# Write the DataFrame to a CSV file\n",
    "df.to_csv('data/output.csv', index=False)"
   ]
  },
  {
   "cell_type": "code",
   "execution_count": 24,
   "id": "6d4075b6-906c-44ba-ae9d-7dd7998f9724",
   "metadata": {},
   "outputs": [
    {
     "data": {
      "text/plain": [
       "Index([ 76518,  76519,  76520,  76521,  76522,  76523,  76524,  76525,  76526,\n",
       "        76527,\n",
       "       ...\n",
       "       127520, 127521, 127522, 127523, 127524, 127525, 127526, 127527, 127528,\n",
       "       127529],\n",
       "      dtype='int64', name='id', length=51012)"
      ]
     },
     "execution_count": 24,
     "metadata": {},
     "output_type": "execute_result"
    }
   ],
   "source": [
    "submission_test.index"
   ]
  },
  {
   "cell_type": "code",
   "execution_count": null,
   "id": "7ad5a52d-8465-4b2e-bec3-9f12e079172a",
   "metadata": {},
   "outputs": [],
   "source": []
  }
 ],
 "metadata": {
  "kernelspec": {
   "display_name": "Python 3 (ipykernel)",
   "language": "python",
   "name": "python3"
  },
  "language_info": {
   "codemirror_mode": {
    "name": "ipython",
    "version": 3
   },
   "file_extension": ".py",
   "mimetype": "text/x-python",
   "name": "python",
   "nbconvert_exporter": "python",
   "pygments_lexer": "ipython3",
   "version": "3.11.9"
  }
 },
 "nbformat": 4,
 "nbformat_minor": 5
}
