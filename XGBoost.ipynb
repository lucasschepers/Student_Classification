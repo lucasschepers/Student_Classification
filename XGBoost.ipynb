{
 "cells": [
  {
   "cell_type": "code",
   "execution_count": 30,
   "id": "afe8c436-c01e-4a64-9340-b1f9027c80fa",
   "metadata": {},
   "outputs": [],
   "source": [
    "import pandas as pd\n",
    "from sklearn.model_selection import train_test_split, GridSearchCV\n",
    "from sklearn.preprocessing import LabelEncoder\n",
    "import xgboost as xgb\n",
    "import time\n",
    "from sklearn.metrics import accuracy_score"
   ]
  },
  {
   "cell_type": "code",
   "execution_count": 2,
   "id": "712253f6-5c0b-4cc7-92c5-02bd0d0d1fb8",
   "metadata": {},
   "outputs": [],
   "source": [
    "train = pd.read_csv(\"data/train.csv\", index_col=\"id\")"
   ]
  },
  {
   "cell_type": "markdown",
   "id": "81cdcb3d-f8bf-4da5-9ff0-ff32ed8b97ec",
   "metadata": {
    "jp-MarkdownHeadingCollapsed": true
   },
   "source": [
    "# Pre-process"
   ]
  },
  {
   "cell_type": "code",
   "execution_count": 3,
   "id": "9a14c910-5383-4b36-b80b-d94b0e56b970",
   "metadata": {},
   "outputs": [],
   "source": [
    "Categorical = [\"Marital status\", \n",
    "               \"Application mode\", \n",
    "               \"Application order\", \n",
    "               \"Course\", \n",
    "               \"Previous qualification\", \n",
    "               \"Nacionality\", \n",
    "               \"Mother's qualification\", \n",
    "               \"Father's qualification\", \n",
    "               \"Mother's occupation\", \n",
    "               \"Father's occupation\"]\n",
    "Boolean = [\"Daytime/evening attendance\", \n",
    "           \"Displaced\", \n",
    "           \"Educational special needs\", \n",
    "           \"Debtor\", \n",
    "           \"Tuition fees up to date\", \n",
    "           \"Gender\", \n",
    "           \"Scholarship holder\", \n",
    "           \"International\" ]\n",
    "Continuous = [\"Previous qualification (grade)\", \n",
    "              \"Admission grade\", \n",
    "              \"Age at enrollment\", \n",
    "              \"Curricular units 1st sem (credited)\", \n",
    "              \"Curricular units 1st sem (enrolled)\", \n",
    "              \"Curricular units 1st sem (evaluations)\", \n",
    "              \"Curricular units 1st sem (approved)\", \n",
    "              \"Curricular units 1st sem (grade)\", \n",
    "              \"Curricular units 1st sem (without evaluations)\",\n",
    "              \"Curricular units 2nd sem (credited)\", \n",
    "              \"Curricular units 2nd sem (enrolled)\", \n",
    "              \"Curricular units 2nd sem (evaluations)\", \n",
    "              \"Curricular units 2nd sem (approved)\", \n",
    "              \"Curricular units 2nd sem (grade)\", \n",
    "              \"Curricular units 2nd sem (without evaluations)\",\n",
    "              \"Unemployment rate\",\n",
    "              \"Inflation rate\",\n",
    "              \"GDP\"]"
   ]
  },
  {
   "cell_type": "code",
   "execution_count": 4,
   "id": "878c53e7-0e45-40fa-afe8-149836ac5d3d",
   "metadata": {},
   "outputs": [],
   "source": [
    "# Separate features and target\n",
    "X = train.drop(columns=['Target'])\n",
    "y = train['Target']"
   ]
  },
  {
   "cell_type": "code",
   "execution_count": 5,
   "id": "5d23b654-5c84-435a-8190-76e83c1fa006",
   "metadata": {},
   "outputs": [],
   "source": [
    "X = pd.get_dummies(X, columns=Categorical)"
   ]
  },
  {
   "cell_type": "code",
   "execution_count": 6,
   "id": "305a9dd5-a514-4f0b-9291-dd665c98a13e",
   "metadata": {},
   "outputs": [],
   "source": [
    "# Encode target column\n",
    "target_encoder = LabelEncoder()\n",
    "y = target_encoder.fit_transform(y)"
   ]
  },
  {
   "cell_type": "markdown",
   "id": "d8704a0a-0f70-4a53-97fa-39ba8fae145b",
   "metadata": {},
   "source": [
    "# Train"
   ]
  },
  {
   "cell_type": "code",
   "execution_count": 7,
   "id": "936c4012-c2d2-4d27-a85c-2404c6010625",
   "metadata": {},
   "outputs": [],
   "source": [
    "X_train, X_val, y_train, y_val = train_test_split(X, y, test_size=0.2, random_state=42)"
   ]
  },
  {
   "cell_type": "markdown",
   "id": "fe986f8a-85dc-48f8-9402-762aaaa71963",
   "metadata": {},
   "source": [
    "# Define the parameter grid\n",
    "param_grid = {\n",
    "    'eta': [0.01, 0.1, 0.3],\n",
    "    'max_depth': [3, 6, 9],\n",
    "    'subsample': [0.7, 0.8, 0.9],\n",
    "    'colsample_bytree': [0.7, 0.8, 0.9],\n",
    "    'n_estimators': [100, 200, 300]\n",
    "}\n",
    "\n",
    "# Initialize the XGBoost model\n",
    "xgb_model = xgb.XGBClassifier(objective='multi:softmax', num_class=len(target_encoder.classes_))\n",
    "\n",
    "# Perform grid search\n",
    "grid_search = GridSearchCV(estimator=xgb_model, param_grid=param_grid, scoring='accuracy', cv=3, verbose=1)\n",
    "grid_search.fit(X_train, y_train)\n",
    "\n",
    "# Get the best parameters\n",
    "best_params = grid_search.best_params_\n",
    "print(\"Best parameters found: \", best_params)\n",
    "\n",
    "# Train the model with the best parameters\n",
    "best_model = xgb.XGBClassifier(**best_params)\n",
    "best_model.fit(X_train, y_train)\n",
    "\n",
    "# Predict\n",
    "y_pred = best_model.predict(X_val)\n",
    "\n",
    "# Evaluate\n",
    "accuracy = accuracy_score(y_val, y_pred)\n",
    "print(f\"Validation Accuracy: {accuracy:.2f}\")"
   ]
  },
  {
   "cell_type": "code",
   "execution_count": 35,
   "id": "e5aead63-910e-4820-9eee-963e05dda793",
   "metadata": {},
   "outputs": [
    {
     "name": "stdout",
     "output_type": "stream",
     "text": [
      "Validation Accuracy: 0.8338\n",
      "Number of boosting rounds used: 223\n",
      "Time taken: 14.54142713546753 seconds\n"
     ]
    }
   ],
   "source": [
    "# Convert to DMatrix for XGBoost\n",
    "dtrain = xgb.DMatrix(X_train, label=y_train)\n",
    "dval = xgb.DMatrix(X_val, label=y_val)\n",
    "\n",
    "# Set parameters for XGBoost\n",
    "params = {\n",
    "    'objective': 'multi:softmax',  # For classification\n",
    "    'num_class': len(target_encoder.classes_),  # Number of unique classes in target\n",
    "    'eval_metric': 'mlogloss',\n",
    "    'eta': 0.1,\n",
    "    'max_depth': 6,\n",
    "}\n",
    "\n",
    "# Train the model\n",
    "start_time = time.time()\n",
    "model = xgb.train(params, dtrain, num_boost_round=500, evals=[(dval, 'eval')], early_stopping_rounds=10, verbose_eval=False)\n",
    "end_time = time.time()\n",
    "\n",
    "# Predict\n",
    "y_pred = model.predict(dval)\n",
    "\n",
    "# Evaluate\n",
    "accuracy = accuracy_score(y_val, y_pred)\n",
    "print(f\"Validation Accuracy: {accuracy:.4f}\")\n",
    "best_iteration = model.best_iteration\n",
    "print(f\"Number of boosting rounds used: {best_iteration + 1}\")\n",
    "print(f\"Time taken: {end_time - start_time} seconds\")"
   ]
  },
  {
   "cell_type": "code",
   "execution_count": null,
   "id": "d4a08f7a-9737-43f4-a199-3ddc2051e861",
   "metadata": {},
   "outputs": [],
   "source": []
  },
  {
   "cell_type": "code",
   "execution_count": null,
   "id": "e76b7a07-e442-4a23-8cc3-2e86875417a9",
   "metadata": {},
   "outputs": [],
   "source": []
  }
 ],
 "metadata": {
  "kernelspec": {
   "display_name": "Python 3 (ipykernel)",
   "language": "python",
   "name": "python3"
  },
  "language_info": {
   "codemirror_mode": {
    "name": "ipython",
    "version": 3
   },
   "file_extension": ".py",
   "mimetype": "text/x-python",
   "name": "python",
   "nbconvert_exporter": "python",
   "pygments_lexer": "ipython3",
   "version": "3.11.9"
  }
 },
 "nbformat": 4,
 "nbformat_minor": 5
}
