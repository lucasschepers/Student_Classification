{
 "cells": [
  {
   "cell_type": "code",
   "execution_count": 1,
   "id": "afe8c436-c01e-4a64-9340-b1f9027c80fa",
   "metadata": {},
   "outputs": [],
   "source": [
    "import pandas as pd\n",
    "from sklearn.model_selection import train_test_split, GridSearchCV\n",
    "from sklearn.preprocessing import LabelEncoder\n",
    "import xgboost as xgb\n",
    "import time\n",
    "from sklearn.metrics import accuracy_score"
   ]
  },
  {
   "cell_type": "code",
   "execution_count": 2,
   "id": "712253f6-5c0b-4cc7-92c5-02bd0d0d1fb8",
   "metadata": {},
   "outputs": [],
   "source": [
    "train = pd.read_csv(\"data/train.csv\", index_col=\"id\")"
   ]
  },
  {
   "cell_type": "markdown",
   "id": "81cdcb3d-f8bf-4da5-9ff0-ff32ed8b97ec",
   "metadata": {
    "jp-MarkdownHeadingCollapsed": true
   },
   "source": [
    "# Pre-process"
   ]
  },
  {
   "cell_type": "code",
   "execution_count": 3,
   "id": "9a14c910-5383-4b36-b80b-d94b0e56b970",
   "metadata": {},
   "outputs": [],
   "source": [
    "Categorical = [\"Marital status\", \n",
    "               \"Application mode\", \n",
    "               \"Application order\", \n",
    "               \"Course\", \n",
    "               \"Previous qualification\", \n",
    "               \"Nacionality\", \n",
    "               \"Mother's qualification\", \n",
    "               \"Father's qualification\", \n",
    "               \"Mother's occupation\", \n",
    "               \"Father's occupation\"]\n",
    "Boolean = [\"Daytime/evening attendance\", \n",
    "           \"Displaced\", \n",
    "           \"Educational special needs\", \n",
    "           \"Debtor\", \n",
    "           \"Tuition fees up to date\", \n",
    "           \"Gender\", \n",
    "           \"Scholarship holder\", \n",
    "           \"International\" ]\n",
    "Continuous = [\"Previous qualification (grade)\", \n",
    "              \"Admission grade\", \n",
    "              \"Age at enrollment\", \n",
    "              \"Curricular units 1st sem (credited)\", \n",
    "              \"Curricular units 1st sem (enrolled)\", \n",
    "              \"Curricular units 1st sem (evaluations)\", \n",
    "              \"Curricular units 1st sem (approved)\", \n",
    "              \"Curricular units 1st sem (grade)\", \n",
    "              \"Curricular units 1st sem (without evaluations)\",\n",
    "              \"Curricular units 2nd sem (credited)\", \n",
    "              \"Curricular units 2nd sem (enrolled)\", \n",
    "              \"Curricular units 2nd sem (evaluations)\", \n",
    "              \"Curricular units 2nd sem (approved)\", \n",
    "              \"Curricular units 2nd sem (grade)\", \n",
    "              \"Curricular units 2nd sem (without evaluations)\",\n",
    "              \"Unemployment rate\",\n",
    "              \"Inflation rate\",\n",
    "              \"GDP\"]"
   ]
  },
  {
   "cell_type": "code",
   "execution_count": 36,
   "id": "878c53e7-0e45-40fa-afe8-149836ac5d3d",
   "metadata": {},
   "outputs": [
    {
     "data": {
      "text/plain": [
       "id\n",
       "0    Graduate\n",
       "1     Dropout\n",
       "2     Dropout\n",
       "3    Enrolled\n",
       "4    Graduate\n",
       "Name: Target, dtype: object"
      ]
     },
     "execution_count": 36,
     "metadata": {},
     "output_type": "execute_result"
    }
   ],
   "source": [
    "# Separate features and target\n",
    "X = train.drop(columns=['Target'])\n",
    "y = train['Target']\n",
    "y.head(5)"
   ]
  },
  {
   "cell_type": "code",
   "execution_count": 37,
   "id": "5d23b654-5c84-435a-8190-76e83c1fa006",
   "metadata": {},
   "outputs": [],
   "source": [
    "X = pd.get_dummies(X, columns=Categorical)"
   ]
  },
  {
   "cell_type": "code",
   "execution_count": 38,
   "id": "305a9dd5-a514-4f0b-9291-dd665c98a13e",
   "metadata": {},
   "outputs": [],
   "source": [
    "# Encode target column\n",
    "target_encoder = LabelEncoder()\n",
    "y = target_encoder.fit_transform(y)"
   ]
  },
  {
   "cell_type": "code",
   "execution_count": 39,
   "id": "db3b3d8d-87fa-48bc-ad76-ce1794c5c12d",
   "metadata": {},
   "outputs": [],
   "source": [
    "#y = pd.get_dummies(y)\n",
    "#y.head()"
   ]
  },
  {
   "cell_type": "markdown",
   "id": "d8704a0a-0f70-4a53-97fa-39ba8fae145b",
   "metadata": {},
   "source": [
    "# Train"
   ]
  },
  {
   "cell_type": "code",
   "execution_count": 40,
   "id": "936c4012-c2d2-4d27-a85c-2404c6010625",
   "metadata": {},
   "outputs": [],
   "source": [
    "X_train, X_val, y_train, y_val = train_test_split(X, y, test_size=0.2, random_state=42)"
   ]
  },
  {
   "cell_type": "code",
   "execution_count": 79,
   "id": "e5aead63-910e-4820-9eee-963e05dda793",
   "metadata": {},
   "outputs": [
    {
     "name": "stdout",
     "output_type": "stream",
     "text": [
      "Validation Accuracy: 0.8351\n",
      "Training Accuracy: 0.8469\n",
      "Number of boosting rounds used: 804\n",
      "Time taken: 39 seconds\n"
     ]
    }
   ],
   "source": [
    "# Convert to DMatrix for XGBoost\n",
    "dtrain = xgb.DMatrix(X_train, label=y_train)\n",
    "dval = xgb.DMatrix(X_val, label=y_val)\n",
    "\n",
    "# Set parameters for XGBoost\n",
    "params = {\n",
    "    'objective': 'multi:softmax',  # For classification\n",
    "    'num_class': len(target_encoder.classes_),  # Number of unique classes in target\n",
    "    'eval_metric': 'mlogloss',\n",
    "    'eta': 0.1,\n",
    "    'max_depth': 3,\n",
    "    'lambda': 4,\n",
    "    'alpha': 1,\n",
    "    'subsample': 1,\n",
    "    'colsample_bytree': 1\n",
    "}\n",
    "\n",
    "# Train the model\n",
    "start_time = time.time()\n",
    "model = xgb.train(params, dtrain, num_boost_round=2000, evals=[(dval, 'eval')], early_stopping_rounds=20, verbose_eval=False)\n",
    "end_time = time.time()\n",
    "\n",
    "# Predict on validation set\n",
    "y_val_pred = model.predict(dval)\n",
    "\n",
    "# Predict on training set\n",
    "y_train_pred = model.predict(dtrain)\n",
    "\n",
    "# Evaluate\n",
    "val_accuracy = accuracy_score(y_val, y_val_pred)\n",
    "train_accuracy = accuracy_score(y_train, y_train_pred)\n",
    "print(f\"Validation Accuracy: {val_accuracy:.4f}\")\n",
    "print(f\"Training Accuracy: {train_accuracy:.4f}\")\n",
    "\n",
    "best_iteration = model.best_iteration\n",
    "print(f\"Number of boosting rounds used: {best_iteration + 1}\")\n",
    "print(f\"Time taken: {round(end_time - start_time)} seconds\")"
   ]
  },
  {
   "cell_type": "code",
   "execution_count": null,
   "id": "e76b7a07-e442-4a23-8cc3-2e86875417a9",
   "metadata": {},
   "outputs": [],
   "source": []
  },
  {
   "cell_type": "code",
   "execution_count": null,
   "id": "bee27c19-6f4b-43d4-a5f0-c99c235e1998",
   "metadata": {},
   "outputs": [],
   "source": []
  }
 ],
 "metadata": {
  "kernelspec": {
   "display_name": "Python 3 (ipykernel)",
   "language": "python",
   "name": "python3"
  },
  "language_info": {
   "codemirror_mode": {
    "name": "ipython",
    "version": 3
   },
   "file_extension": ".py",
   "mimetype": "text/x-python",
   "name": "python",
   "nbconvert_exporter": "python",
   "pygments_lexer": "ipython3",
   "version": "3.11.9"
  }
 },
 "nbformat": 4,
 "nbformat_minor": 5
}
